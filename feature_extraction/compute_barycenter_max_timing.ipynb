{
 "cells": [
  {
   "cell_type": "code",
   "execution_count": null,
   "metadata": {},
   "outputs": [],
   "source": [
    "import os\n",
    "import numpy as np\n",
    "import pandas as pd\n",
    "import sys\n",
    "import matplotlib.pyplot as plt\n",
    "from glob import glob\n",
    "from tslearn import barycenters\n",
    "from scipy.stats import zscore"
   ]
  },
  {
   "cell_type": "code",
   "execution_count": 2,
   "metadata": {},
   "outputs": [],
   "source": [
    "# Define path for derivatives directory\n",
    "deriv_dir = \"/Users/abry4213/data/Cogitate_MEG/derivatives\"\n",
    "MEG_time_series_dir = f\"{deriv_dir}/MEG_time_series\"\n",
    "\n",
    "# Initialize list for pyspi results\n",
    "all_barycenter_res_list = []\n",
    "\n",
    "barycenter_method_dict = {'euclidean': barycenters.euclidean_barycenter,\n",
    "                          'softdtw': barycenters.softdtw_barycenter,\n",
    "                          'dtw': barycenters.dtw_barycenter_averaging,\n",
    "                          'sgddtw': barycenters.dtw_barycenter_averaging_subgradient}"
   ]
  },
  {
   "cell_type": "code",
   "execution_count": 5,
   "metadata": {},
   "outputs": [
    {
     "name": "stdout",
     "output_type": "stream",
     "text": [
      "Computing euclidean barycenter for sub-CB081, False, Irrelevant\n",
      "Computing dtw barycenter for sub-CB081, False, Irrelevant\n",
      "Computing sgddtw barycenter for sub-CB081, False, Irrelevant\n"
     ]
    },
    {
     "name": "stderr",
     "output_type": "stream",
     "text": [
      "/Users/abry4213/anaconda3/envs/annie_env/lib/python3.9/site-packages/tslearn/barycenters/dba.py:735: ConvergenceWarning: DBA loss is increasing while it should not be. Stopping optimization.\n",
      "  warnings.warn(\"DBA loss is increasing while it should not be. \"\n"
     ]
    },
    {
     "name": "stdout",
     "output_type": "stream",
     "text": [
      "Computing euclidean barycenter for sub-CB081, False, Relevant non-target\n",
      "Computing dtw barycenter for sub-CB081, False, Relevant non-target\n",
      "Computing sgddtw barycenter for sub-CB081, False, Relevant non-target\n"
     ]
    },
    {
     "name": "stderr",
     "output_type": "stream",
     "text": [
      "/Users/abry4213/anaconda3/envs/annie_env/lib/python3.9/site-packages/tslearn/barycenters/dba.py:735: ConvergenceWarning: DBA loss is increasing while it should not be. Stopping optimization.\n",
      "  warnings.warn(\"DBA loss is increasing while it should not be. \"\n"
     ]
    },
    {
     "name": "stdout",
     "output_type": "stream",
     "text": [
      "Computing euclidean barycenter for sub-CB081, False, Relevant target\n",
      "Computing dtw barycenter for sub-CB081, False, Relevant target\n",
      "Computing sgddtw barycenter for sub-CB081, False, Relevant target\n"
     ]
    },
    {
     "name": "stderr",
     "output_type": "stream",
     "text": [
      "/Users/abry4213/anaconda3/envs/annie_env/lib/python3.9/site-packages/tslearn/barycenters/dba.py:735: ConvergenceWarning: DBA loss is increasing while it should not be. Stopping optimization.\n",
      "  warnings.warn(\"DBA loss is increasing while it should not be. \"\n"
     ]
    },
    {
     "name": "stdout",
     "output_type": "stream",
     "text": [
      "Computing euclidean barycenter for sub-CB081, face, Irrelevant\n",
      "Computing dtw barycenter for sub-CB081, face, Irrelevant\n",
      "Computing sgddtw barycenter for sub-CB081, face, Irrelevant\n"
     ]
    },
    {
     "name": "stderr",
     "output_type": "stream",
     "text": [
      "/Users/abry4213/anaconda3/envs/annie_env/lib/python3.9/site-packages/tslearn/barycenters/dba.py:735: ConvergenceWarning: DBA loss is increasing while it should not be. Stopping optimization.\n",
      "  warnings.warn(\"DBA loss is increasing while it should not be. \"\n"
     ]
    },
    {
     "name": "stdout",
     "output_type": "stream",
     "text": [
      "Computing euclidean barycenter for sub-CB081, face, Relevant non-target\n",
      "Computing dtw barycenter for sub-CB081, face, Relevant non-target\n",
      "Computing sgddtw barycenter for sub-CB081, face, Relevant non-target\n"
     ]
    },
    {
     "name": "stderr",
     "output_type": "stream",
     "text": [
      "/Users/abry4213/anaconda3/envs/annie_env/lib/python3.9/site-packages/tslearn/barycenters/dba.py:735: ConvergenceWarning: DBA loss is increasing while it should not be. Stopping optimization.\n",
      "  warnings.warn(\"DBA loss is increasing while it should not be. \"\n"
     ]
    },
    {
     "name": "stdout",
     "output_type": "stream",
     "text": [
      "Computing euclidean barycenter for sub-CB081, face, Relevant target\n",
      "Computing dtw barycenter for sub-CB081, face, Relevant target\n",
      "Computing sgddtw barycenter for sub-CB081, face, Relevant target\n"
     ]
    },
    {
     "name": "stderr",
     "output_type": "stream",
     "text": [
      "/Users/abry4213/anaconda3/envs/annie_env/lib/python3.9/site-packages/tslearn/barycenters/dba.py:735: ConvergenceWarning: DBA loss is increasing while it should not be. Stopping optimization.\n",
      "  warnings.warn(\"DBA loss is increasing while it should not be. \"\n"
     ]
    },
    {
     "name": "stdout",
     "output_type": "stream",
     "text": [
      "Computing euclidean barycenter for sub-CB081, letter, Irrelevant\n",
      "Computing dtw barycenter for sub-CB081, letter, Irrelevant\n",
      "Computing sgddtw barycenter for sub-CB081, letter, Irrelevant\n"
     ]
    },
    {
     "name": "stderr",
     "output_type": "stream",
     "text": [
      "/Users/abry4213/anaconda3/envs/annie_env/lib/python3.9/site-packages/tslearn/barycenters/dba.py:735: ConvergenceWarning: DBA loss is increasing while it should not be. Stopping optimization.\n",
      "  warnings.warn(\"DBA loss is increasing while it should not be. \"\n"
     ]
    },
    {
     "name": "stdout",
     "output_type": "stream",
     "text": [
      "Computing euclidean barycenter for sub-CB081, letter, Relevant non-target\n",
      "Computing dtw barycenter for sub-CB081, letter, Relevant non-target\n",
      "Computing sgddtw barycenter for sub-CB081, letter, Relevant non-target\n"
     ]
    },
    {
     "name": "stderr",
     "output_type": "stream",
     "text": [
      "/Users/abry4213/anaconda3/envs/annie_env/lib/python3.9/site-packages/tslearn/barycenters/dba.py:735: ConvergenceWarning: DBA loss is increasing while it should not be. Stopping optimization.\n",
      "  warnings.warn(\"DBA loss is increasing while it should not be. \"\n"
     ]
    },
    {
     "name": "stdout",
     "output_type": "stream",
     "text": [
      "Computing euclidean barycenter for sub-CB081, letter, Relevant target\n",
      "Computing dtw barycenter for sub-CB081, letter, Relevant target\n",
      "Computing sgddtw barycenter for sub-CB081, letter, Relevant target\n"
     ]
    },
    {
     "name": "stderr",
     "output_type": "stream",
     "text": [
      "/Users/abry4213/anaconda3/envs/annie_env/lib/python3.9/site-packages/tslearn/barycenters/dba.py:735: ConvergenceWarning: DBA loss is increasing while it should not be. Stopping optimization.\n",
      "  warnings.warn(\"DBA loss is increasing while it should not be. \"\n"
     ]
    },
    {
     "name": "stdout",
     "output_type": "stream",
     "text": [
      "Computing euclidean barycenter for sub-CB081, object, Irrelevant\n",
      "Computing dtw barycenter for sub-CB081, object, Irrelevant\n",
      "Computing sgddtw barycenter for sub-CB081, object, Irrelevant\n"
     ]
    },
    {
     "name": "stderr",
     "output_type": "stream",
     "text": [
      "/Users/abry4213/anaconda3/envs/annie_env/lib/python3.9/site-packages/tslearn/barycenters/dba.py:735: ConvergenceWarning: DBA loss is increasing while it should not be. Stopping optimization.\n",
      "  warnings.warn(\"DBA loss is increasing while it should not be. \"\n"
     ]
    },
    {
     "name": "stdout",
     "output_type": "stream",
     "text": [
      "Computing euclidean barycenter for sub-CB081, object, Relevant non-target\n",
      "Computing dtw barycenter for sub-CB081, object, Relevant non-target\n",
      "Computing sgddtw barycenter for sub-CB081, object, Relevant non-target\n"
     ]
    },
    {
     "name": "stderr",
     "output_type": "stream",
     "text": [
      "/Users/abry4213/anaconda3/envs/annie_env/lib/python3.9/site-packages/tslearn/barycenters/dba.py:735: ConvergenceWarning: DBA loss is increasing while it should not be. Stopping optimization.\n",
      "  warnings.warn(\"DBA loss is increasing while it should not be. \"\n"
     ]
    },
    {
     "name": "stdout",
     "output_type": "stream",
     "text": [
      "Computing euclidean barycenter for sub-CB081, object, Relevant target\n",
      "Computing dtw barycenter for sub-CB081, object, Relevant target\n",
      "Computing sgddtw barycenter for sub-CB081, object, Relevant target\n"
     ]
    },
    {
     "name": "stderr",
     "output_type": "stream",
     "text": [
      "/Users/abry4213/anaconda3/envs/annie_env/lib/python3.9/site-packages/tslearn/barycenters/dba.py:735: ConvergenceWarning: DBA loss is increasing while it should not be. Stopping optimization.\n",
      "  warnings.warn(\"DBA loss is increasing while it should not be. \"\n"
     ]
    }
   ],
   "source": [
    "all_barycenter_res_list = []\n",
    "\n",
    "# Load in individual subjects' MEG time series\n",
    "for subject_averaged_TS_file in glob(f\"{MEG_time_series_dir}/*_ses-1_meg_1000ms_all_time_series.csv\")[0:1]:\n",
    "    subject_ID = os.path.basename(subject_averaged_TS_file).replace(\"_ses-1_meg_1000ms_all_time_series.csv\", \"\")\n",
    "    subject_averaged_TS = pd.read_csv(subject_averaged_TS_file)\n",
    "\n",
    "    # Iterate over each stimulus_type and relevance_type\n",
    "    for this_stim in subject_averaged_TS.stimulus_type.unique():\n",
    "        for this_rel in subject_averaged_TS.relevance_type.unique():\n",
    "\n",
    "            stim_rel_data = subject_averaged_TS.query(f\"stimulus_type == '{this_stim}' & relevance_type == '{this_rel}'\")\n",
    "\n",
    "            # Filter to specific regions during onset\n",
    "            CS_onset = zscore(stim_rel_data.query(\"times >= 0 & times <= 1\").Category_Selective.values)\n",
    "            PFC_onset = zscore(stim_rel_data.query(\"times >= 0 & times <= 1\").Prefrontal_Cortex.values)\n",
    "            VIS_onset = zscore(stim_rel_data.query(\"times >= 0 & times <= 1\").V1_V2.values)\n",
    "\n",
    "            # Filter to specific regions during offset\n",
    "            CS_offset = zscore(stim_rel_data.query(\"times > 1\").Category_Selective.values)\n",
    "            PFC_offset = zscore(stim_rel_data.query(\"times > 1\").Prefrontal_Cortex.values)\n",
    "            VIS_offset = zscore(stim_rel_data.query(\"times > 1\").V1_V2.values)\n",
    "\n",
    "            # Iterate over the barycenter methods in barycenter_method_dict\n",
    "            for method_name, method_func in barycenter_method_dict.items():\n",
    "\n",
    "                print(f\"Computing {method_name} barycenter for {subject_ID}, {this_stim}, {this_rel}\")\n",
    "\n",
    "                # Compute the time-resolved barycenter for each region--region pair\n",
    "                CS_PFC_onset_barycenter = method_func([CS_onset, PFC_onset])\n",
    "                CS_VIS_onset_barycenter = method_func([CS_onset, VIS_onset])\n",
    "                CS_PFC_offset_barycenter = method_func([CS_offset, PFC_offset])\n",
    "                CS_VIS_offset_barycenter = method_func([CS_offset, VIS_offset])\n",
    "\n",
    "                # Store (A) mean, (B) max, (C) time index of the max\n",
    "                CS_PFC_onset_barycenter_mean = np.mean(CS_PFC_onset_barycenter)\n",
    "                CS_PFC_onset_barycenter_max = np.max(CS_PFC_onset_barycenter)\n",
    "                CS_PFC_onset_barycenter_max_time = np.argmax(CS_PFC_onset_barycenter)\n",
    "\n",
    "                CS_VIS_onset_barycenter_mean = np.mean(CS_VIS_onset_barycenter)\n",
    "                CS_VIS_onset_barycenter_max = np.max(CS_VIS_onset_barycenter)\n",
    "                CS_VIS_onset_barycenter_max_time = np.argmax(CS_VIS_onset_barycenter)\n",
    "\n",
    "                CS_PFC_offset_barycenter_mean = np.mean(CS_PFC_offset_barycenter)\n",
    "                CS_PFC_offset_barycenter_max = np.max(CS_PFC_offset_barycenter)\n",
    "                CS_PFC_offset_barycenter_max_time = np.argmax(CS_PFC_offset_barycenter)\n",
    "\n",
    "                CS_VIS_offset_barycenter_mean = np.mean(CS_VIS_offset_barycenter)\n",
    "                CS_VIS_offset_barycenter_max = np.max(CS_VIS_offset_barycenter)\n",
    "                CS_VIS_offset_barycenter_max_time = np.argmax(CS_VIS_offset_barycenter)\n",
    "\n",
    "                # Create dataframe\n",
    "                stim_rel_df = pd.DataFrame({ \"Subject\": subject_ID,\n",
    "                                            \"Stimulus\": this_stim,\n",
    "                                            \"Relevance\": this_rel,\n",
    "                                            \"Presentation\": [\"Onset\", \"Onset\", \"Offset\", \"Offset\"],\n",
    "                                            \"Region\": [\"CS_PFC\", \"CS_VIS\", \"CS_PFC\", \"CS_VIS\"],\n",
    "                                            \"Method\": [method_name, method_name, method_name, method_name],\n",
    "                                            \"Mean\": [CS_PFC_onset_barycenter_mean, CS_VIS_onset_barycenter_mean, CS_PFC_offset_barycenter_mean, CS_VIS_offset_barycenter_mean],\n",
    "                                            \"Max\": [CS_PFC_onset_barycenter_max, CS_VIS_onset_barycenter_max, CS_PFC_offset_barycenter_max, CS_VIS_offset_barycenter_max],\n",
    "                                            \"Max_Time\": [CS_PFC_onset_barycenter_max_time, CS_VIS_onset_barycenter_max_time, CS_PFC_offset_barycenter_max_time, CS_VIS_offset_barycenter_max_time]\n",
    "                                           })\n",
    "                \n",
    "                # Append to all_barycenter_res_list\n",
    "                all_barycenter_res_list.append(stim_rel_df)\n",
    "                \n",
    "all_barycenter_res = pd.concat(all_barycenter_res_list)"
   ]
  },
  {
   "cell_type": "code",
   "execution_count": 4,
   "metadata": {},
   "outputs": [],
   "source": [
    "                    stim_rel_df = pd.DataFrame({ \"Subject\": subject_ID,\n",
    "                                                \"Stimulus\": this_stim,\n",
    "                                                \"Relevance\": this_rel,\n",
    "                                                \"Presentation\": [\"Onset\", \"Onset\", \"Offset\", \"Offset\"],\n",
    "                                                \"Region\": [\"CS_PFC\", \"CS_VIS\", \"CS_PFC\", \"CS_VIS\"],\n",
    "                                                \"Method\": [method_name, method_name, method_name, method_name],\n",
    "                                                \"Mean\": [CS_PFC_onset_barycenter_mean, CS_VIS_onset_barycenter_mean, CS_PFC_offset_barycenter_mean, CS_VIS_offset_barycenter_mean],\n",
    "                                                \"Max\": [CS_PFC_onset_barycenter_max, CS_VIS_onset_barycenter_max, CS_PFC_offset_barycenter_max, CS_VIS_offset_barycenter_max],\n",
    "                                                \"Max_Time\": [CS_PFC_onset_barycenter_max_time, CS_VIS_onset_barycenter_max_time, CS_PFC_offset_barycenter_max_time, CS_VIS_offset_barycenter_max_time]\n",
    "                                            })"
   ]
  }
 ],
 "metadata": {
  "kernelspec": {
   "display_name": "annie_env",
   "language": "python",
   "name": "python3"
  },
  "language_info": {
   "codemirror_mode": {
    "name": "ipython",
    "version": 3
   },
   "file_extension": ".py",
   "mimetype": "text/x-python",
   "name": "python",
   "nbconvert_exporter": "python",
   "pygments_lexer": "ipython3",
   "version": "3.9.19"
  }
 },
 "nbformat": 4,
 "nbformat_minor": 2
}
