{
 "cells": [
  {
   "cell_type": "code",
   "execution_count": 4,
   "metadata": {},
   "outputs": [],
   "source": [
    "import pandas as pd\n",
    "import os.path as op\n",
    "from glob import glob"
   ]
  },
  {
   "cell_type": "code",
   "execution_count": 2,
   "metadata": {},
   "outputs": [],
   "source": [
    "visit_id = \"1\"\n",
    "duration = \"1000ms\"\n",
    "bids_root = \"/headnode1/abry4213/data/Cogitate_MEG/\"\n",
    "\n",
    "# Time series output path for this subject\n",
    "pyspi_path = op.join(bids_root, \"derivatives\", \"time_series_features/averaged_epochs\")"
   ]
  },
  {
   "cell_type": "code",
   "execution_count": 11,
   "metadata": {},
   "outputs": [],
   "source": [
    "# Iterate over the files in the directory\n",
    "for file in glob(pyspi_path + \"/*fast_supplement*\"):\n",
    "    # Get the base name for the file\n",
    "    subject_ID = op.basename(file).replace(\".csv\", \"\").split(\"_\")[0]\n",
    "\n",
    "    if not op.exists(f\"{pyspi_path}/{subject_ID}_ses-{visit_id}_all_pyspi_results_{duration}.csv\"):\n",
    "\n",
    "        # Read in subject's fast results\n",
    "        subject_fast_results = pd.read_csv(f\"{pyspi_path}/{subject_ID}_ses-{visit_id}_all_pyspi_fast_results_{duration}.csv\")\n",
    "\n",
    "        # Read in fast supplement results\n",
    "        subject_fast_supp_results = pd.read_csv(file)\n",
    "\n",
    "        # Merge the two dataframes\n",
    "        all_subject_results = pd.concat([subject_fast_results, subject_fast_supp_results], axis=0).reset_index(drop=True)\n",
    "\n",
    "        # Save the merged dataframe\n",
    "        all_subject_results.to_csv(f\"{pyspi_path}/{subject_ID}_ses-{visit_id}_all_pyspi_results_{duration}.csv\", index=False)"
   ]
  }
 ],
 "metadata": {
  "kernelspec": {
   "display_name": "Python 3",
   "language": "python",
   "name": "python3"
  },
  "language_info": {
   "codemirror_mode": {
    "name": "ipython",
    "version": 3
   },
   "file_extension": ".py",
   "mimetype": "text/x-python",
   "name": "python",
   "nbconvert_exporter": "python",
   "pygments_lexer": "ipython3",
   "version": "3.9.7"
  }
 },
 "nbformat": 4,
 "nbformat_minor": 2
}
