{
 "cells": [
  {
   "cell_type": "code",
   "execution_count": 10,
   "metadata": {},
   "outputs": [],
   "source": [
    "import pandas as pd\n",
    "import os"
   ]
  },
  {
   "cell_type": "code",
   "execution_count": 11,
   "metadata": {},
   "outputs": [
    {
     "name": "stdout",
     "output_type": "stream",
     "text": [
      "Subjects with time series but no classification results:\n",
      "{'sub-CA176', 'sub-CA134', 'sub-CA167', 'sub-CB044', 'sub-CA136'}\n"
     ]
    }
   ],
   "source": [
    "# List subjects who have results in \n",
    "classification_res_subjects = set([sub.split(\"_\")[0] for sub in os.listdir(\"/headnode1/abry4213/data/Cogitate_MEG/derivatives/classification_results/within_participants\")])\n",
    "\n",
    "# List subjects who have pyspi results\n",
    "time_series_subjects = set([sub.split(\"_\")[0] for sub in os.listdir(\"/headnode1/abry4213/data/Cogitate_MEG/derivatives/MEG_time_series/\")])\n",
    "\n",
    "# Print the subjects who have time series but not pyspi res\n",
    "print(\"Subjects with time series but no classification results:\")\n",
    "print(time_series_subjects - classification_res_subjects)"
   ]
  }
 ],
 "metadata": {
  "kernelspec": {
   "display_name": "Python 3",
   "language": "python",
   "name": "python3"
  },
  "language_info": {
   "codemirror_mode": {
    "name": "ipython",
    "version": 3
   },
   "file_extension": ".py",
   "mimetype": "text/x-python",
   "name": "python",
   "nbconvert_exporter": "python",
   "pygments_lexer": "ipython3",
   "version": "3.9.7"
  }
 },
 "nbformat": 4,
 "nbformat_minor": 2
}
