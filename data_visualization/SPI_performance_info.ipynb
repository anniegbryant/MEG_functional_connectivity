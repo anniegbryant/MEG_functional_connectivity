{
 "cells": [
  {
   "cell_type": "code",
   "execution_count": 1,
   "metadata": {},
   "outputs": [],
   "source": [
    "import os\n",
    "import numpy as np\n",
    "import pandas as pd\n",
    "import sys\n",
    "import matplotlib.pyplot as plt\n",
    "\n",
    "# Add rpy2\n",
    "%load_ext rpy2.ipython"
   ]
  },
  {
   "cell_type": "code",
   "execution_count": 2,
   "metadata": {},
   "outputs": [],
   "source": [
    "%%R \n",
    "\n",
    "suppressPackageStartupMessages({\n",
    "    library(broom)\n",
    "    library(cowplot)\n",
    "    library(glue)\n",
    "    library(patchwork)\n",
    "    library(see)\n",
    "    library(tidyverse)\n",
    "})\n",
    "\n",
    "# Set cowplot theme\n",
    "theme_set(theme_cowplot())"
   ]
  },
  {
   "cell_type": "markdown",
   "metadata": {},
   "source": [
    "### What are the SPI performances according to the original pyspi paper -- Cliff et al. *Nat Comp Sci* (2023)?"
   ]
  },
  {
   "cell_type": "code",
   "execution_count": 9,
   "metadata": {},
   "outputs": [],
   "source": [
    "# Load in SPI adjacenct matrix\n",
    "SPI_adj_mat = pd.read_csv(\"../metadata/mm_adj.csv\").melt(id_vars='Source statistic', var_name='Target statistic', value_name='Spearman_Corr')\n",
    "\n",
    "# Filter to bary_euclidean_max\n",
    "bary_euclidean_max_corr = SPI_adj_mat.query(\"`Source statistic` == 'bary_euclidean_max' & `Target statistic` != 'bary_euclidean_max'\")"
   ]
  }
 ],
 "metadata": {
  "kernelspec": {
   "display_name": "annie_env",
   "language": "python",
   "name": "python3"
  },
  "language_info": {
   "codemirror_mode": {
    "name": "ipython",
    "version": 3
   },
   "file_extension": ".py",
   "mimetype": "text/x-python",
   "name": "python",
   "nbconvert_exporter": "python",
   "pygments_lexer": "ipython3",
   "version": "3.9.19"
  }
 },
 "nbformat": 4,
 "nbformat_minor": 2
}
