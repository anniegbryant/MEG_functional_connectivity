{
 "cells": [
  {
   "cell_type": "code",
   "execution_count": 1,
   "metadata": {},
   "outputs": [],
   "source": [
    "import os\n",
    "import numpy as np\n",
    "import pandas as pd\n",
    "import sys\n",
    "import json\n",
    "import networkx as nx\n",
    "import matplotlib.pyplot as plt\n",
    "from venny4py.venny4py import *\n",
    "import math\n",
    "from glob import glob\n",
    "\n",
    "# Add rpy2\n",
    "%load_ext rpy2.ipython"
   ]
  },
  {
   "cell_type": "code",
   "execution_count": 2,
   "metadata": {},
   "outputs": [],
   "source": [
    "%%R \n",
    "\n",
    "suppressPackageStartupMessages({\n",
    "    library(broom)\n",
    "    library(ComplexHeatmap)\n",
    "    library(cowplot)\n",
    "    library(facefuns)\n",
    "    library(factoextra)\n",
    "    library(FactoMineR)\n",
    "    library(ggh4x)\n",
    "    library(ggraph)\n",
    "    library(ggpubr)\n",
    "    library(ggrain)\n",
    "    library(ggridges)\n",
    "    library(ggseg)\n",
    "    library(ggsignif)\n",
    "    library(ggVennDiagram)\n",
    "    library(glue)\n",
    "    library(igraph)\n",
    "    library(LaCroixColoR)\n",
    "    library(patchwork)\n",
    "    library(RColorBrewer)\n",
    "    library(rlist)\n",
    "    library(scales)\n",
    "    library(see)\n",
    "    library(splitstackshape)\n",
    "    library(tidyverse)\n",
    "    library(VennDiagram) \n",
    "})\n",
    "\n",
    "\n",
    "# Set cowplot theme\n",
    "theme_set(theme_cowplot())"
   ]
  },
  {
   "cell_type": "code",
   "execution_count": 3,
   "metadata": {},
   "outputs": [],
   "source": [
    "intra_individual_classification_path = \"/Users/abry4213/data/Cogitate_MEG/derivatives/classification_results/within_participants\"\n",
    "intra_individual_classification_res_list = []\n",
    "\n",
    "# for classification_file in os.listdir(intra_individual_classification_path):\n",
    "for classification_file in glob(f\"{intra_individual_classification_path}/*Logistic*.csv\"):\n",
    "    subject_id = os.path.basename(classification_file).split(\"_\")[0]\n",
    "    classification_df = pd.read_csv(classification_file)\n",
    "\n",
    "    # Drop the 'comparison' column\n",
    "    if \"comparison\" in classification_df.columns:\n",
    "        classification_df = classification_df.drop(columns=[\"comparison\"])\n",
    "\n",
    "    if \"relevance_type\" in classification_file:\n",
    "        classification_df[\"Classification_Type\"] = \"Relevance\"\n",
    "    else:\n",
    "        classification_df[\"Classification_Type\"] = \"Stimulus Type\"\n",
    "\n",
    "    # Rename column from subject_id to \"subject_id\"\n",
    "    classification_df = classification_df.rename(columns={subject_id: \"subject_id\"})\n",
    "    classification_df[\"subject_id\"] = subject_id\n",
    "\n",
    "    # Append results\n",
    "    intra_individual_classification_res_list.append(classification_df)\n",
    "\n",
    "# Concatenate all classification results\n",
    "intra_individual_classification_res = pd.concat(intra_individual_classification_res_list)"
   ]
  },
  {
   "cell_type": "code",
   "execution_count": null,
   "metadata": {},
   "outputs": [],
   "source": [
    "intra_individual_classification_res.head()"
   ]
  },
  {
   "cell_type": "markdown",
   "metadata": {},
   "source": [
    "## Intra-individual classification performance"
   ]
  },
  {
   "cell_type": "code",
   "execution_count": null,
   "metadata": {},
   "outputs": [],
   "source": [
    "# load pyspi SPI info\n",
    "pyspi_SPI_info = pd.read_csv(\"../feature_extraction/pyspi_SPI_info.csv\")\n",
    "\n",
    "# Define path for derivatives directory\n",
    "deriv_dir = \"/Users/abry4213/data/Cogitate_MEG/derivatives\"\n",
    "\n",
    "intra_individual_classification_path = f\"{deriv_dir}/classification_results/within_participants\"\n",
    "intra_individual_classification_res_list = []\n",
    "\n",
    "for classification_file in os.listdir(intra_individual_classification_path):\n",
    "    subject_id = classification_file.split(\"_\")[0]\n",
    "    subject_base = subject_id.replace(\"sub-\", \"\")\n",
    "    classification_df = pd.read_csv(os.path.join(intra_individual_classification_path, classification_file))\n",
    "\n",
    "    # Drop the 'comparison' column\n",
    "    if \"comparison\" in classification_df.columns:\n",
    "        classification_df = classification_df.drop(columns=[\"comparison\"])\n",
    "\n",
    "    if \"relevance_type\" in classification_file:\n",
    "        classification_df[\"Classification_Type\"] = \"Relevance\"\n",
    "    else:\n",
    "        classification_df[\"Classification_Type\"] = \"Stimulus Type\"\n",
    "\n",
    "    # Rename column from subject_id to \"subject_id\"\n",
    "    classification_df = classification_df.rename(columns={subject_id: \"subject_id\"})\n",
    "    classification_df[\"subject_id\"] = subject_id\n",
    "\n",
    "    # Drop the column named after the subject_id\n",
    "    if subject_base in classification_df.columns:\n",
    "        classification_df = classification_df.drop(columns=[subject_base])\n",
    "\n",
    "    # Append results\n",
    "    intra_individual_classification_res_list.append(classification_df)\n",
    "\n",
    "# Concatenate all classification results\n",
    "intra_individual_classification_res = pd.concat(intra_individual_classification_res_list)\n",
    "intra_individual_stimulus_classification_res = intra_individual_classification_res.query(\"Classification_Type=='Stimulus Type'\")\n",
    "intra_individual_relevance_classification_res = intra_individual_classification_res.query(\"Classification_Type=='Relevance'\")\n"
   ]
  },
  {
   "cell_type": "markdown",
   "metadata": {},
   "source": [
    "## What is the max classification performance by participant? "
   ]
  },
  {
   "cell_type": "code",
   "execution_count": null,
   "metadata": {},
   "outputs": [],
   "source": [
    "max_stimulus_performance_per_participant = intra_individual_stimulus_classification_res.groupby(['subject_id'])['accuracy'].agg('max').reset_index().merge(intra_individual_stimulus_classification_res, how='left')\n",
    "\n",
    "max_stimulus_performance_per_participant.head()"
   ]
  },
  {
   "cell_type": "code",
   "execution_count": null,
   "metadata": {},
   "outputs": [],
   "source": [
    "%%R -i max_stimulus_performance_per_participant,pyspi_SPI_info\n",
    "\n",
    "max_stimulus_performance_per_participant %>% \n",
    "    left_join(pyspi_SPI_info) %>%\n",
    "    mutate(subject_id = fct_reorder(subject_id, accuracy, .desc=T)) %>%\n",
    "    ggplot(data=., mapping=aes(x=subject_id, y=100*accuracy, color=100*accuracy)) +\n",
    "    geom_point() + # Add a line from the point to the x-axis\n",
    "    scale_y_continuous(expand=c(0,0)) +\n",
    "    geom_segment(aes(xend=subject_id, yend=50)) +\n",
    "    ylab(\"Max CV Accuracy (%)\") +\n",
    "    xlab(\"Participants (N=94)\") +\n",
    "    theme(axis.text.x = element_blank(),\n",
    "          axis.ticks.x = element_blank(),\n",
    "          legend.position=\"none\")\n",
    "ggsave('../plots/intra_subject_classification/Max_classification_performance_by_participant.svg', width=6, height=3, units='in', dpi=300)"
   ]
  }
 ],
 "metadata": {
  "kernelspec": {
   "display_name": "annie_env",
   "language": "python",
   "name": "python3"
  },
  "language_info": {
   "codemirror_mode": {
    "name": "ipython",
    "version": 3
   },
   "file_extension": ".py",
   "mimetype": "text/x-python",
   "name": "python",
   "nbconvert_exporter": "python",
   "pygments_lexer": "ipython3",
   "version": "3.9.19"
  }
 },
 "nbformat": 4,
 "nbformat_minor": 2
}
