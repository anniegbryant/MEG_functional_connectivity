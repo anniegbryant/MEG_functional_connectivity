{
 "cells": [
  {
   "cell_type": "code",
   "execution_count": 2,
   "metadata": {},
   "outputs": [],
   "source": [
    "import pandas as pd\n",
    "import numpy as np\n",
    "\n",
    "# Add rpy2 to run R code chunks\n",
    "%load_ext rpy2.ipython"
   ]
  },
  {
   "cell_type": "code",
   "execution_count": 11,
   "metadata": {},
   "outputs": [],
   "source": [
    "%%R \n",
    "\n",
    "# Load packages needed for visualization in R\n",
    "suppressPackageStartupMessages({\n",
    "    library(colorspace)\n",
    "    library(cowplot)\n",
    "    library(tidyverse)\n",
    "    library(patchwork)\n",
    "    library(viridis)\n",
    "    library(fsbrain)\n",
    "    library(glue)\n",
    "\n",
    "\n",
    "    # Set cowplot theme\n",
    "    theme_set(theme_cowplot())\n",
    "})"
   ]
  },
  {
   "cell_type": "code",
   "execution_count": 4,
   "metadata": {},
   "outputs": [
    {
     "name": "stderr",
     "output_type": "stream",
     "text": [
      "FALLBACK (log once): Fallback to SW fragment processing (outputInfo.polygonModeMismatch)\n",
      "FALLBACK (log once): Fallback to SW fragment processing, m_disable_code: 800000\n"
     ]
    },
    {
     "name": "stdout",
     "output_type": "stream",
     "text": [
      "# A tibble: 1 × 7\n",
      "  format width height colorspace matte filesize density\n",
      "  <chr>  <int>  <int> <chr>      <lgl>    <int> <chr>  \n",
      "1 PNG     1930   1890 sRGB       FALSE        0 72x72  \n"
     ]
    }
   ],
   "source": [
    "%%R \n",
    "\n",
    "# Define directories\n",
    "subjects_dir = \"~/data/fs/\"\n",
    "github_dir <- \"~/github/MEG_functional_connectivity/\"\n",
    "\n",
    "# fsaverage surface\n",
    "subject_id = 'fsaverage'\n",
    "\n",
    "############ SCHAEFER100 ##############\n",
    "# 1. Category-selective: \"lateraloccipital\", \"fusiform\"\n",
    "# 2. Visual: \"pericalcarine\", \"lingual\"\n",
    "# 3. Inferior parietal sulcus: \"superior\"\n",
    "# 4. Prefrontal cortex: \"7Networks_LH_Cont_PFCl_1\", \"7Networks_RH_Cont_PFCl_1\"\n",
    "\n",
    "# Schaefer100 left/right surface annot\n",
    "schaef_atlas_dir = \"~/data/neuroimaging_atlases/surfaces/Schaefer/fsaverage/\"\n",
    "lh_schaef_annot = freesurferformats::read.fs.annot(glue(\"{schaef_atlas_dir}/atl-Schaefer2018_space-fsaverage_hemi-L_desc-100Parcels7Networks_deterministic.annot\"))\n",
    "rh_schaef_annot = freesurferformats::read.fs.annot(glue(\"{schaef_atlas_dir}/atl-Schaefer2018_space-fsaverage_hemi-R_desc-100Parcels7Networks_deterministic.annot\"))\n",
    "\n",
    "lh_schaef_parcels_of_interest <- case_when(lh_schaef_annot$label_names %in% c(\"7Networks_LH_DorsAttn_Post_1\") ~ 1,\n",
    "                                           lh_schaef_annot$label_names %in% c(\"7Networks_LH_Vis_4\", \"7Networks_LH_Vis_5\") ~ 2,\n",
    "                                           lh_schaef_annot$label_names %in% c(\"7Networks_LH_DorsAttn_Post_3\") ~ 3,\n",
    "                                           lh_schaef_annot$label_names %in% c(\"7Networks_LH_SalVentAttn_PFCl_1\") ~ 4,\n",
    "                                           T ~ NA_real_)\n",
    "rh_schaef_parcels_of_interest <- case_when(rh_schaef_annot$label_names %in% c(\"7Networks_RH_Vis_3\") ~ 1,\n",
    "                                           rh_schaef_annot$label_names %in% c(\"7Networks_RH_Vis_4\", \"7Networks_RH_Vis_5\") ~ 2,\n",
    "                                           rh_schaef_annot$label_names %in% c(\"7Networks_RH_DorsAttn_Post_4\") ~ 3,\n",
    "                                           rh_schaef_annot$label_names %in% c(\"7Networks_RH_Cont_PFCl_3\") ~ 4,\n",
    "                                           T ~ NA_real_)\n",
    "\n",
    "schaefer_atlas_rois_on_surface <- vis.symmetric.data.on.subject(subjects_dir, vis_subject_id=subject_id, \n",
    "                              morph_data_lh=lh_schaef_parcels_of_interest, \n",
    "                              morph_data_rh=rh_schaef_parcels_of_interest, \n",
    "                              bg=\"sulc_light\",\n",
    "                              makecmap_options = list('colFn'=viridis),\n",
    "                              surface=\"inflated\", draw_colorbar = T,\n",
    "                              rglactions = list('shift_hemis_apart'=TRUE))\n",
    "# Export the vis\n",
    "export(schaefer_atlas_rois_on_surface, img_only = TRUE, \n",
    "       output_img = glue(\"{github_dir}/plots/methods/Schaefer100_atlas_ROIs.png\"),\n",
    "       rglactions = list('shift_hemis_apart'=TRUE,'no_vis'=T), \n",
    "       view_angles=fsbrain::get.view.angle.names(angle_set = \"t9\"))\n"
   ]
  },
  {
   "cell_type": "code",
   "execution_count": 20,
   "metadata": {},
   "outputs": [],
   "source": [
    "%%R \n",
    "\n",
    "gg_color_hue <- function(n) {\n",
    "  hues = seq(15, 375, length = n + 1)\n",
    "  hcl(h = hues, l = 65, c = 100)[1:n]\n",
    "}\n",
    "\n",
    "n = 12\n",
    "cols = gg_color_hue(n)\n",
    "\n",
    "# Iterate from 1 to 12, and for each number, simulate 50 random values; plot as a one-row heatmap with the corresponding color\n",
    "set.seed(1)\n",
    "\n",
    "plot_list <- list()\n",
    "for (i in 1:12) {\n",
    "    y_data <- data.frame(val=rnorm(250), index=1:250)\n",
    "    p <- ggplot(y_data, aes(x=index, y=0, fill=val)) + \n",
    "        geom_tile() + \n",
    "        scale_fill_gradient(low=\"white\", high=cols[i]) +\n",
    "        theme_void() +\n",
    "        theme(legend.position=\"none\")\n",
    "\n",
    "    plot_list[[i]] <- p\n",
    "}\n",
    "\n",
    "wrap_plots(plot_list, ncol=1)\n",
    "ggsave(\"../plots/methods/example_time_series.svg\", width=5, height=4, units=\"in\", dpi=300)"
   ]
  }
 ],
 "metadata": {
  "kernelspec": {
   "display_name": "annie_env",
   "language": "python",
   "name": "python3"
  },
  "language_info": {
   "codemirror_mode": {
    "name": "ipython",
    "version": 3
   },
   "file_extension": ".py",
   "mimetype": "text/x-python",
   "name": "python",
   "nbconvert_exporter": "python",
   "pygments_lexer": "ipython3",
   "version": "3.9.19"
  }
 },
 "nbformat": 4,
 "nbformat_minor": 2
}
