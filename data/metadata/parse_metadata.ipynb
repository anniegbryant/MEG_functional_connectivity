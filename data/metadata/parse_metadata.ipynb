{
 "cells": [
  {
   "cell_type": "code",
   "execution_count": 34,
   "metadata": {},
   "outputs": [
    {
     "name": "stdout",
     "output_type": "stream",
     "text": [
      "The rpy2.ipython extension is already loaded. To reload it, use:\n",
      "  %reload_ext rpy2.ipython\n"
     ]
    }
   ],
   "source": [
    "import os\n",
    "import numpy as np\n",
    "import pandas as pd\n",
    "import sys\n",
    "import json\n",
    "from glob import glob\n",
    "import random \n",
    "\n",
    "# Add rpy2\n",
    "%load_ext rpy2.ipython"
   ]
  },
  {
   "cell_type": "code",
   "execution_count": 22,
   "metadata": {},
   "outputs": [],
   "source": [
    "%%R \n",
    "\n",
    "suppressPackageStartupMessages({\n",
    "    library(cowplot)\n",
    "    library(see)\n",
    "    library(tidyverse)\n",
    "\n",
    "    theme_set(theme_cowplot())\n",
    "})"
   ]
  },
  {
   "cell_type": "code",
   "execution_count": 2,
   "metadata": {},
   "outputs": [],
   "source": [
    "metadata_path = \"/Users/abry4213/data/Cogitate_MEG/derivatives/additional_metadata\"\n",
    "\n",
    "# Find folders matching the pattern \"sub-*\" in the metadata directory\n",
    "subjects = sorted(glob(os.path.join(metadata_path, \"sub-*\")))\n",
    "\n",
    "# Create a dictionary to store the metadata\n",
    "metadata_list = []\n",
    "\n",
    "# Loop through each subject folder\n",
    "for subject in subjects:\n",
    "    # Get the subject ID\n",
    "    subject_id = os.path.basename(subject)\n",
    "    # Remove the sub- prefix\n",
    "    sub_base = subject_id.split(\"-\")[1]\n",
    "    # Load the metadata file\n",
    "    with open(f\"{metadata_path}/{subject_id}/METADATA/{sub_base}_demographics.json\", \"r\") as f:\n",
    "        subject_metadata = pd.DataFrame(json.load(f), index=[0]).assign(participant_id=subject_id)\n",
    "    \n",
    "    if \"gender\" in subject_metadata.columns:\n",
    "        subject_metadata = (subject_metadata.rename(columns={\"gender\": \"sex\",\n",
    "                                                            \"primary\": \"primary_language\",\n",
    "                                                            \"secondary\": \"secondary_language\",\n",
    "                                                            \"hand\": \"handedness\",\n",
    "                                                            \"eye\": \"eyedominance\"})\n",
    "                            .assign(handedness = lambda x: x.handedness.str.lower(),\n",
    "                                    sex = lambda x: np.where(x.sex == \"Male\", \"M\", \"F\")))\n",
    "    \n",
    "    # Just select desired columns, substitue NA for any missing values\n",
    "    try:\n",
    "        subject_metadata = subject_metadata[[\"participant_id\", \"sex\", \"age\", \"handedness\", \"height\", \"weight\", \"primary_language\", \"secondary_language\", \"education\",  \"colorblind\"]]\n",
    "    except KeyError as e:\n",
    "        # Find which key is missing\n",
    "        missing_key = str(e).split(\"'\")[1]\n",
    "        # Add the missing key to the dataframe\n",
    "        subject_metadata[missing_key] = np.nan\n",
    "        # Reorder the columns\n",
    "        subject_metadata = subject_metadata[[\"participant_id\", \"sex\", \"age\", \"handedness\", \"height\", \"weight\", \"primary_language\", \"secondary_language\", \"education\", \"colorblind\"]]\n",
    "\n",
    "\n",
    "    # Reset index\n",
    "    metadata_list.append(subject_metadata)\n",
    "\n",
    "metadata = pd.concat(metadata_list, ignore_index=True)\n",
    "\n",
    "# Set 'n/a' to NaN in metadata.weight\n",
    "metadata['height'] = metadata['height'].replace('n/a', np.nan)\n",
    "metadata['weight'] = metadata['weight'].replace('n/a', np.nan)\n",
    "\n",
    "# Replace commas with period in metadata.weight\n",
    "metadata['weight'] = metadata['weight'].str.replace(',', '.').astype(float)\n",
    "metadata['height'] = metadata['height'].str.replace(',', '.').astype(float)"
   ]
  },
  {
   "cell_type": "code",
   "execution_count": 19,
   "metadata": {},
   "outputs": [],
   "source": [
    "# Save the metadata to a CSV file\n",
    "metadata.to_csv(\"/Users/abry4213/data/Cogitate_MEG/all_participant_metadata.csv\", index=False)\n",
    "\n",
    "# Load in subjects for whom we have ALL data\n",
    "subjects_with_all_data = pd.read_csv(\"/Users/abry4213/github/MEG_functional_connectivity/subject_list_Cogitate_MEG_with_all_data.txt\", header=None).reset_index()\n",
    "subjects_with_all_data.columns = [\"index\", \"participant_id\"]\n",
    "subjects_with_all_data = [\"sub-\" + s for s in subjects_with_all_data.participant_id.tolist()]\n",
    "\n",
    "# Filter metadata\n",
    "metadata_filtered = metadata[metadata.participant_id.isin(subjects_with_all_data)]\n",
    "metadata_filtered.to_csv(\"/Users/abry4213/data/Cogitate_MEG/all_participant_metadata_filtered.csv\", index=False)"
   ]
  },
  {
   "cell_type": "code",
   "execution_count": 28,
   "metadata": {},
   "outputs": [
    {
     "data": {
      "text/html": [
       "<div>\n",
       "<style scoped>\n",
       "    .dataframe tbody tr th:only-of-type {\n",
       "        vertical-align: middle;\n",
       "    }\n",
       "\n",
       "    .dataframe tbody tr th {\n",
       "        vertical-align: top;\n",
       "    }\n",
       "\n",
       "    .dataframe thead th {\n",
       "        text-align: right;\n",
       "    }\n",
       "</style>\n",
       "<table border=\"1\" class=\"dataframe\">\n",
       "  <thead>\n",
       "    <tr style=\"text-align: right;\">\n",
       "      <th></th>\n",
       "      <th>sex</th>\n",
       "      <th>count</th>\n",
       "    </tr>\n",
       "  </thead>\n",
       "  <tbody>\n",
       "    <tr>\n",
       "      <th>0</th>\n",
       "      <td>F</td>\n",
       "      <td>54</td>\n",
       "    </tr>\n",
       "    <tr>\n",
       "      <th>1</th>\n",
       "      <td>M</td>\n",
       "      <td>40</td>\n",
       "    </tr>\n",
       "  </tbody>\n",
       "</table>\n",
       "</div>"
      ],
      "text/plain": [
       "  sex  count\n",
       "0   F     54\n",
       "1   M     40"
      ]
     },
     "execution_count": 28,
     "metadata": {},
     "output_type": "execute_result"
    }
   ],
   "source": [
    "# How many participants of each sex do we have?\n",
    "metadata_filtered.groupby([\"sex\"]).size().reset_index().rename(columns={0: \"count\"})"
   ]
  },
  {
   "cell_type": "code",
   "execution_count": 33,
   "metadata": {},
   "outputs": [
    {
     "data": {
      "text/html": [
       "<div>\n",
       "<style scoped>\n",
       "    .dataframe tbody tr th:only-of-type {\n",
       "        vertical-align: middle;\n",
       "    }\n",
       "\n",
       "    .dataframe tbody tr th {\n",
       "        vertical-align: top;\n",
       "    }\n",
       "\n",
       "    .dataframe thead th {\n",
       "        text-align: right;\n",
       "    }\n",
       "</style>\n",
       "<table border=\"1\" class=\"dataframe\">\n",
       "  <thead>\n",
       "    <tr style=\"text-align: right;\">\n",
       "      <th></th>\n",
       "      <th>sex</th>\n",
       "      <th>average_age</th>\n",
       "    </tr>\n",
       "  </thead>\n",
       "  <tbody>\n",
       "    <tr>\n",
       "      <th>0</th>\n",
       "      <td>F</td>\n",
       "      <td>23.055556</td>\n",
       "    </tr>\n",
       "    <tr>\n",
       "      <th>1</th>\n",
       "      <td>M</td>\n",
       "      <td>22.275000</td>\n",
       "    </tr>\n",
       "  </tbody>\n",
       "</table>\n",
       "</div>"
      ],
      "text/plain": [
       "  sex  average_age\n",
       "0   F    23.055556\n",
       "1   M    22.275000"
      ]
     },
     "execution_count": 33,
     "metadata": {},
     "output_type": "execute_result"
    }
   ],
   "source": [
    "# What is the average age per sex?\n",
    "metadata_filtered.groupby([\"sex\"]).age.mean().reset_index().rename(columns={\"age\": \"average_age\"})"
   ]
  },
  {
   "cell_type": "code",
   "execution_count": 32,
   "metadata": {},
   "outputs": [
    {
     "name": "stderr",
     "output_type": "stream",
     "text": [
      "/Users/abry4213/anaconda3/envs/annie_env/lib/python3.9/site-packages/rpy2/robjects/pandas2ri.py:65: UserWarning: Error while trying to convert the column \"colorblind\". Fall back to string conversion. The error is: Series can only be of one type, or None (and here we have <class 'str'> and <class 'bool'>). If happening with a pandas DataFrame the method infer_objects() will normalize data types before conversion.\n",
      "  warnings.warn('Error while trying to convert '\n"
     ]
    }
   ],
   "source": [
    "%%R -i metadata_filtered\n",
    "# View age and sex distributions\n",
    "\n",
    "metadata_filtered %>% \n",
    "    ggplot(data=., mapping=aes(x=sex, y=age, fill=sex, color=sex)) +\n",
    "    geom_violinhalf(scale=\"width\", color=\"black\", position = position_dodge(width = 2), width=1)  +\n",
    "    geom_point(position = position_jitter(width = 0.05, height=0),\n",
    "                            size = 2.75, alpha=0.8, stroke=0) +\n",
    "    stat_summary(color=\"black\", fun=\"mean\", geom=\"crossbar\", width=0.2, linewidth=0.3, \n",
    "            show.legend=FALSE, position = position_dodge(width=1.4)) +\n",
    "    ylab(\"Age (Years)\") +\n",
    "    xlab(\"Sex\") +\n",
    "    ggtitle(\"Age and Sex Distribution in\\nCogitate MEG Participants (N=94)\") +\n",
    "    scale_fill_manual(values=c(\"F\"=\"#D091B5\", \"M\"=\"#55B3E2\")) +\n",
    "    scale_color_manual(values=c(\"F\"=\"#D091B5\", \"M\"=\"#55B3E2\")) +\n",
    "    theme(legend.position=\"none\",\n",
    "          plot.title = element_text(hjust=0.5))\n",
    "ggsave(\"plots/age_by_sex.svg\", width=4, height=4, units=\"in\", dpi=300)"
   ]
  },
  {
   "cell_type": "code",
   "execution_count": 57,
   "metadata": {},
   "outputs": [],
   "source": [
    "# simulate example time-series for onset and offset across four brain regions\n",
    "random.seed(127)\n",
    "M = 4 # 4 time series\n",
    "T = 35 # 35 samples per process\n",
    "simulated_MTS_onset = np.random.randn(M,T) # generate our multivariate time-series\n",
    "simulated_MTS_df_onset = pd.DataFrame(simulated_MTS_onset.T, columns=[\"Category_Selective\", \"Visual\", \"Parietal_Integration\", \"Prefrontal_Cortex\"]).assign(timepoint = np.arange(1, T+1))\n",
    "\n",
    "random.seed(27)\n",
    "simulated_MTS_offset = np.random.randn(M,T) # generate our multivariate time-series\n",
    "simulated_MTS_df_offset = pd.DataFrame(simulated_MTS_offset.T, columns=[\"Category_Selective\", \"Visual\", \"Parietal_Integration\", \"Prefrontal_Cortex\"]).assign(timepoint = np.arange(1, T+1))"
   ]
  },
  {
   "cell_type": "code",
   "execution_count": 58,
   "metadata": {},
   "outputs": [],
   "source": [
    "%%R -i simulated_MTS_df_onset,simulated_MTS_df_offset\n",
    "\n",
    "# Plot the simulated time series\n",
    "simulated_MTS_df_onset %>% \n",
    "    pivot_longer(cols=c(-timepoint), names_to=\"meta_ROI\", values_to=\"signal\") %>%\n",
    "    ggplot(data=., mapping=aes(x=timepoint, y=signal, color=meta_ROI)) +\n",
    "    scale_color_viridis_d() +\n",
    "    geom_line() +\n",
    "    facet_grid(meta_ROI ~ .) +\n",
    "    theme_void() +\n",
    "    theme(legend.position = \"none\",\n",
    "            strip.text = element_blank(),\n",
    "            panel.spacing = unit(-0.75, \"lines\"))\n",
    "ggsave(\"plots/simulated_time_series_onset.svg\", width=3, height=1.5, units=\"in\", dpi=300)\n",
    "\n",
    "simulated_MTS_df_offset %>%\n",
    "    pivot_longer(cols=c(-timepoint), names_to=\"meta_ROI\", values_to=\"signal\") %>%\n",
    "    ggplot(data=., mapping=aes(x=timepoint, y=signal, color=meta_ROI)) +\n",
    "    scale_color_viridis_d() +\n",
    "    geom_line() +\n",
    "    facet_grid(meta_ROI ~ .) +\n",
    "    theme_void() +\n",
    "    theme(legend.position = \"none\",\n",
    "            strip.text = element_blank(),\n",
    "            panel.spacing = unit(-0.75, \"lines\"))\n",
    "ggsave(\"plots/simulated_time_series_offset.svg\", width=3, height=1.5, units=\"in\", dpi=300)"
   ]
  }
 ],
 "metadata": {
  "kernelspec": {
   "display_name": "annie_env",
   "language": "python",
   "name": "python3"
  },
  "language_info": {
   "codemirror_mode": {
    "name": "ipython",
    "version": 3
   },
   "file_extension": ".py",
   "mimetype": "text/x-python",
   "name": "python",
   "nbconvert_exporter": "python",
   "pygments_lexer": "ipython3",
   "version": "3.9.19"
  }
 },
 "nbformat": 4,
 "nbformat_minor": 2
}
